{
 "cells": [
  {
   "cell_type": "markdown",
   "metadata": {},
   "source": [
    "# Bird Migration Project\n",
    "\n",
    " Sophia Colonello, Patrick Dolan, Adriana Schermaier"
   ]
  },
  {
   "cell_type": "markdown",
   "metadata": {},
   "source": [
    "### Setting up our data \n"
   ]
  },
  {
   "cell_type": "code",
   "execution_count": 6,
   "metadata": {},
   "outputs": [
    {
     "name": "stdout",
     "output_type": "stream",
     "text": [
      "\u001b[33mDEPRECATION: Python 3.4 support has been deprecated. pip 19.1 will be the last one supporting it. Please upgrade your Python as Python 3.4 won't be maintained after March 2019 (cf PEP 429).\u001b[0m\n",
      "Requirement already satisfied: pandas in /usr/local/lib/python3.4/dist-packages (0.22.0)\n",
      "Requirement already satisfied: python-dateutil>=2 in /usr/local/lib/python3.4/dist-packages (from pandas) (2.6.1)\n",
      "Requirement already satisfied: numpy>=1.9.0 in /usr/local/lib/python3.4/dist-packages (from pandas) (1.13.3)\n",
      "Requirement already satisfied: pytz>=2011k in /usr/local/lib/python3.4/dist-packages (from pandas) (2017.3)\n",
      "Requirement already satisfied: six>=1.5 in /usr/local/lib/python3.4/dist-packages (from python-dateutil>=2->pandas) (1.11.0)\n",
      "\u001b[33mDEPRECATION: Python 3.4 support has been deprecated. pip 19.1 will be the last one supporting it. Please upgrade your Python as Python 3.4 won't be maintained after March 2019 (cf PEP 429).\u001b[0m\n",
      "Requirement already satisfied: plotly in /usr/local/lib/python3.4/dist-packages (4.6.0)\n",
      "Requirement already satisfied: six in /usr/local/lib/python3.4/dist-packages (from plotly) (1.11.0)\n",
      "Requirement already satisfied: retrying>=1.3.3 in /usr/local/lib/python3.4/dist-packages (from plotly) (1.3.3)\n",
      "\u001b[33mDEPRECATION: Python 3.4 support has been deprecated. pip 19.1 will be the last one supporting it. Please upgrade your Python as Python 3.4 won't be maintained after March 2019 (cf PEP 429).\u001b[0m\n",
      "Collecting packaging\n",
      "\u001b[?25l  Downloading https://files.pythonhosted.org/packages/3e/89/7ea760b4daa42653ece2380531c90f64788d979110a2ab51049d92f408af/packaging-20.9-py2.py3-none-any.whl (40kB)\n",
      "\u001b[K     |################################| 40kB 13.5MB/s eta 0:00:01\n",
      "\u001b[?25hRequirement already satisfied: pyparsing>=2.0.2 in /usr/local/lib/python3.4/dist-packages (from packaging) (2.2.0)\n",
      "Installing collected packages: packaging\n",
      "\u001b[31mERROR: Could not install packages due to an EnvironmentError: [Errno 13] Permission denied: '/usr/local/lib/python3.4/dist-packages/packaging'\n",
      "Consider using the `--user` option or check the permissions.\n",
      "\u001b[0m\n",
      "\u001b[33mDEPRECATION: Python 3.4 support has been deprecated. pip 19.1 will be the last one supporting it. Please upgrade your Python as Python 3.4 won't be maintained after March 2019 (cf PEP 429).\u001b[0m\n",
      "Requirement already satisfied: haversine in /home/codio/.local/lib/python3.4/site-packages (2.4.1)\n",
      "\u001b[33mDEPRECATION: Python 3.4 support has been deprecated. pip 19.1 will be the last one supporting it. Please upgrade your Python as Python 3.4 won't be maintained after March 2019 (cf PEP 429).\u001b[0m\n",
      "Requirement already satisfied: ipywidgets in /usr/local/lib/python3.4/dist-packages (7.0.5)\n",
      "Requirement already satisfied: widgetsnbextension~=3.0.0 in /usr/local/lib/python3.4/dist-packages (from ipywidgets) (3.0.8)\n",
      "Requirement already satisfied: traitlets>=4.3.1 in /usr/local/lib/python3.4/dist-packages (from ipywidgets) (4.3.2)\n",
      "Requirement already satisfied: nbformat>=4.2.0 in /usr/local/lib/python3.4/dist-packages (from ipywidgets) (4.4.0)\n",
      "Requirement already satisfied: ipykernel>=4.5.1 in /usr/local/lib/python3.4/dist-packages (from ipywidgets) (4.6.1)\n",
      "Requirement already satisfied: ipython>=4.0.0; python_version >= \"3.3\" in /usr/local/lib/python3.4/dist-packages (from ipywidgets) (6.2.1)\n",
      "Requirement already satisfied: notebook>=4.4.1 in /usr/local/lib/python3.4/dist-packages (from widgetsnbextension~=3.0.0->ipywidgets) (5.2.2)\n",
      "Requirement already satisfied: ipython-genutils in /usr/local/lib/python3.4/dist-packages (from traitlets>=4.3.1->ipywidgets) (0.2.0)\n",
      "Requirement already satisfied: six in /usr/local/lib/python3.4/dist-packages (from traitlets>=4.3.1->ipywidgets) (1.11.0)\n",
      "Requirement already satisfied: decorator in /home/codio/.local/lib/python3.4/site-packages (from traitlets>=4.3.1->ipywidgets) (4.4.2)\n",
      "Requirement already satisfied: jupyter-core in /usr/local/lib/python3.4/dist-packages (from nbformat>=4.2.0->ipywidgets) (4.4.0)\n",
      "Requirement already satisfied: jsonschema!=2.5.0,>=2.4 in /usr/local/lib/python3.4/dist-packages (from nbformat>=4.2.0->ipywidgets) (2.6.0)\n",
      "Requirement already satisfied: jupyter-client in /usr/local/lib/python3.4/dist-packages (from ipykernel>=4.5.1->ipywidgets) (5.1.0)\n",
      "Requirement already satisfied: tornado>=4.0 in /usr/local/lib/python3.4/dist-packages (from ipykernel>=4.5.1->ipywidgets) (4.5.2)\n",
      "Requirement already satisfied: pexpect; sys_platform != \"win32\" in /usr/local/lib/python3.4/dist-packages (from ipython>=4.0.0; python_version >= \"3.3\"->ipywidgets) (4.3.0)\n",
      "Requirement already satisfied: pickleshare in /usr/local/lib/python3.4/dist-packages (from ipython>=4.0.0; python_version >= \"3.3\"->ipywidgets) (0.7.4)\n",
      "Requirement already satisfied: prompt-toolkit<2.0.0,>=1.0.4 in /usr/local/lib/python3.4/dist-packages (from ipython>=4.0.0; python_version >= \"3.3\"->ipywidgets) (1.0.15)\n",
      "Requirement already satisfied: simplegeneric>0.8 in /usr/local/lib/python3.4/dist-packages (from ipython>=4.0.0; python_version >= \"3.3\"->ipywidgets) (0.8.1)\n",
      "Requirement already satisfied: setuptools>=18.5 in /usr/local/lib/python3.4/dist-packages (from ipython>=4.0.0; python_version >= \"3.3\"->ipywidgets) (43.0.0)\n",
      "Requirement already satisfied: jedi>=0.10 in /usr/local/lib/python3.4/dist-packages (from ipython>=4.0.0; python_version >= \"3.3\"->ipywidgets) (0.11.0)\n",
      "Requirement already satisfied: pygments in /usr/local/lib/python3.4/dist-packages (from ipython>=4.0.0; python_version >= \"3.3\"->ipywidgets) (2.2.0)\n",
      "Requirement already satisfied: typing; python_version <= \"3.4\" in /usr/local/lib/python3.4/dist-packages (from ipython>=4.0.0; python_version >= \"3.3\"->ipywidgets) (3.6.2)\n",
      "Requirement already satisfied: nbconvert in /usr/local/lib/python3.4/dist-packages (from notebook>=4.4.1->widgetsnbextension~=3.0.0->ipywidgets) (5.3.1)\n",
      "Requirement already satisfied: terminado>=0.3.3; sys_platform != \"win32\" in /usr/local/lib/python3.4/dist-packages (from notebook>=4.4.1->widgetsnbextension~=3.0.0->ipywidgets) (0.8.1)\n",
      "Requirement already satisfied: jinja2 in /usr/local/lib/python3.4/dist-packages (from notebook>=4.4.1->widgetsnbextension~=3.0.0->ipywidgets) (2.10)\n",
      "Requirement already satisfied: pyzmq>=13 in /usr/local/lib/python3.4/dist-packages (from jupyter-client->ipykernel>=4.5.1->ipywidgets) (16.0.3)\n",
      "Requirement already satisfied: python-dateutil>=2.1 in /usr/local/lib/python3.4/dist-packages (from jupyter-client->ipykernel>=4.5.1->ipywidgets) (2.6.1)\n",
      "Requirement already satisfied: backports-abc>=0.4 in /usr/local/lib/python3.4/dist-packages (from tornado>=4.0->ipykernel>=4.5.1->ipywidgets) (0.5)\n",
      "Requirement already satisfied: ptyprocess>=0.5 in /usr/local/lib/python3.4/dist-packages (from pexpect; sys_platform != \"win32\"->ipython>=4.0.0; python_version >= \"3.3\"->ipywidgets) (0.5.2)\n",
      "Requirement already satisfied: wcwidth in /usr/local/lib/python3.4/dist-packages (from prompt-toolkit<2.0.0,>=1.0.4->ipython>=4.0.0; python_version >= \"3.3\"->ipywidgets) (0.1.7)\n",
      "Requirement already satisfied: parso==0.1.0 in /usr/local/lib/python3.4/dist-packages (from jedi>=0.10->ipython>=4.0.0; python_version >= \"3.3\"->ipywidgets) (0.1.0)\n",
      "Requirement already satisfied: entrypoints>=0.2.2 in /usr/local/lib/python3.4/dist-packages (from nbconvert->notebook>=4.4.1->widgetsnbextension~=3.0.0->ipywidgets) (0.2.3)\n",
      "Requirement already satisfied: pandocfilters>=1.4.1 in /usr/local/lib/python3.4/dist-packages (from nbconvert->notebook>=4.4.1->widgetsnbextension~=3.0.0->ipywidgets) (1.4.2)\n",
      "Requirement already satisfied: bleach in /usr/local/lib/python3.4/dist-packages (from nbconvert->notebook>=4.4.1->widgetsnbextension~=3.0.0->ipywidgets) (2.1.1)\n",
      "Requirement already satisfied: mistune>=0.7.4 in /usr/local/lib/python3.4/dist-packages (from nbconvert->notebook>=4.4.1->widgetsnbextension~=3.0.0->ipywidgets) (0.8.1)\n",
      "Requirement already satisfied: testpath in /usr/local/lib/python3.4/dist-packages (from nbconvert->notebook>=4.4.1->widgetsnbextension~=3.0.0->ipywidgets) (0.3.1)\n",
      "Requirement already satisfied: MarkupSafe>=0.23 in /usr/local/lib/python3.4/dist-packages (from jinja2->notebook>=4.4.1->widgetsnbextension~=3.0.0->ipywidgets) (1.0)\n",
      "Requirement already satisfied: html5lib!=1.0b1,!=1.0b2,!=1.0b3,!=1.0b4,!=1.0b5,!=1.0b6,!=1.0b7,!=1.0b8,>=0.99999999pre in /usr/local/lib/python3.4/dist-packages (from bleach->nbconvert->notebook>=4.4.1->widgetsnbextension~=3.0.0->ipywidgets) (1.0b10)\n",
      "Requirement already satisfied: webencodings in /usr/local/lib/python3.4/dist-packages (from html5lib!=1.0b1,!=1.0b2,!=1.0b3,!=1.0b4,!=1.0b5,!=1.0b6,!=1.0b7,!=1.0b8,>=0.99999999pre->bleach->nbconvert->notebook>=4.4.1->widgetsnbextension~=3.0.0->ipywidgets) (0.5.1)\n"
     ]
    }
   ],
   "source": [
    "!pip install pandas\n",
    "!pip install plotly\n",
    "!pip install packaging\n",
    "!pip install haversine \n",
    "!pip install ipywidgets"
   ]
  },
  {
   "cell_type": "code",
   "execution_count": 7,
   "metadata": {},
   "outputs": [
    {
     "data": {
      "text/html": [
       "        <script type=\"text/javascript\">\n",
       "        window.PlotlyConfig = {MathJaxConfig: 'local'};\n",
       "        if (window.MathJax) {MathJax.Hub.Config({SVG: {font: \"STIX-Web\"}});}\n",
       "        if (typeof require !== 'undefined') {\n",
       "        require.undef(\"plotly\");\n",
       "        requirejs.config({\n",
       "            paths: {\n",
       "                'plotly': ['https://cdn.plot.ly/plotly-latest.min']\n",
       "            }\n",
       "        });\n",
       "        require(['plotly'], function(Plotly) {\n",
       "            window._Plotly = Plotly;\n",
       "        });\n",
       "        }\n",
       "        </script>\n",
       "        "
      ]
     },
     "metadata": {},
     "output_type": "display_data"
    }
   ],
   "source": [
    "import numpy as np\n",
    "import pandas as pd\n",
    "import matplotlib.pyplot as plt\n",
    "from plotly import tools\n",
    "import chart_studio.plotly\n",
    "from plotly.offline import init_notebook_mode, iplot\n",
    "init_notebook_mode(connected=True)\n",
    "import plotly.graph_objs as go\n",
    "import plotly.figure_factory as ff\n",
    "from IPython.display import HTML, Image\n",
    "import plotly.express as px\n",
    "px.set_mapbox_access_token(open(\".mapbox_token\").read())\n",
    "import datetime as dt\n",
    "from haversine import haversine, Unit\n",
    "import ipywidgets as widgets\n",
    "from ipywidgets import interact, interact_manual"
   ]
  },
  {
   "cell_type": "code",
   "execution_count": 8,
   "metadata": {},
   "outputs": [],
   "source": [
    "birds = pd.read_csv('bird_tracking.csv')"
   ]
  },
  {
   "cell_type": "code",
   "execution_count": 9,
   "metadata": {},
   "outputs": [],
   "source": [
    "# setting up the date and time columns\n",
    "birds = birds.assign(date_time = lambda d: pd.to_datetime(d['date_time'], format = '%Y-%m-%d'))\n",
    "\n",
    "birds = birds.assign(month = lambda d: d['date_time'].dt.month, \n",
    "                     day = lambda d: d['date_time'].dt.day,\n",
    "                     hour = lambda d: d['date_time'].dt.hour)\n",
    "\n",
    "# adding month and day columns as strings for use in the migration and location plots\n",
    "birds[\"month_str\"] = birds[\"month\"].astype(str)\n",
    "birds[\"day_str\"] = birds[\"day\"].astype(str)"
   ]
  },
  {
   "cell_type": "code",
   "execution_count": 10,
   "metadata": {},
   "outputs": [],
   "source": [
    "#calculating and adding the distance travelled column \n",
    "birds['distance'] = 0\n",
    "\n",
    "for row_index in range(birds.shape[0]-1):\n",
    "    # The if statement is necessary so that when we hit the last value for one bird,\n",
    "    # it is not used to calculate the first distance for the next bird\n",
    "    if birds.loc[row_index,'bird_name']==birds.loc[row_index+1,'bird_name']:\n",
    "        distance = haversine((birds.loc[row_index, 'latitude'],birds.loc[row_index, 'longitude']), \n",
    "                             (birds.loc[row_index + 1, 'latitude'], birds.loc[row_index + 1, 'longitude']),unit=Unit.MILES)\n",
    "        birds.loc[row_index + 1, 'distance'] = round(distance,2)"
   ]
  },
  {
   "cell_type": "code",
   "execution_count": 11,
   "metadata": {},
   "outputs": [],
   "source": [
    "#fixing the altitude and speed for mapbox display purpose\n",
    "def fix_alt(alt):\n",
    "    if alt > 0:\n",
    "        return np.log2(alt)\n",
    "    else:\n",
    "        return 1\n",
    "def fix_speed(speed):\n",
    "    if speed > 1:\n",
    "        return np.log2(speed)\n",
    "    else:\n",
    "        return 1\n",
    "\n",
    "birds['fix_alt'] = birds.apply(lambda x: fix_alt(x.altitude), axis =1)\n",
    "birds['fix_speed'] = birds.apply(lambda x: fix_speed(x.speed_2d), axis = 1)"
   ]
  },
  {
   "cell_type": "markdown",
   "metadata": {},
   "source": [
    "# Bird Activity: Night and Day\n",
    "Night is defined as any hour >= 18 or <= 5. \n",
    "\n",
    "We are interested in seeing when and how active each bird is, and the proportions of distance traveled during night vs day."
   ]
  },
  {
   "cell_type": "code",
   "execution_count": 12,
   "metadata": {},
   "outputs": [],
   "source": [
    "#Seperating datasets into night observations and day observations\n",
    "nightbird=birds.loc[lambda d: (d['hour'] >= 18) | (d['hour'] <= 5)]\n",
    "daybird=birds.loc[lambda d: (d['hour'] < 18) & (d['hour'] > 5)]"
   ]
  },
  {
   "cell_type": "code",
   "execution_count": 13,
   "metadata": {},
   "outputs": [
    {
     "data": {
      "text/html": [
       "<div>\n",
       "<style scoped>\n",
       "    .dataframe tbody tr th:only-of-type {\n",
       "        vertical-align: middle;\n",
       "    }\n",
       "\n",
       "    .dataframe tbody tr th {\n",
       "        vertical-align: top;\n",
       "    }\n",
       "\n",
       "    .dataframe thead th {\n",
       "        text-align: right;\n",
       "    }\n",
       "</style>\n",
       "<table border=\"1\" class=\"dataframe\">\n",
       "  <thead>\n",
       "    <tr style=\"text-align: right;\">\n",
       "      <th></th>\n",
       "      <th>distance</th>\n",
       "    </tr>\n",
       "    <tr>\n",
       "      <th>bird_name</th>\n",
       "      <th></th>\n",
       "    </tr>\n",
       "  </thead>\n",
       "  <tbody>\n",
       "    <tr>\n",
       "      <th>Eric</th>\n",
       "      <td>6901.81</td>\n",
       "    </tr>\n",
       "    <tr>\n",
       "      <th>Nico</th>\n",
       "      <td>9762.27</td>\n",
       "    </tr>\n",
       "    <tr>\n",
       "      <th>Sanne</th>\n",
       "      <td>8528.43</td>\n",
       "    </tr>\n",
       "  </tbody>\n",
       "</table>\n",
       "</div>"
      ],
      "text/plain": [
       "           distance\n",
       "bird_name          \n",
       "Eric        6901.81\n",
       "Nico        9762.27\n",
       "Sanne       8528.43"
      ]
     },
     "execution_count": 13,
     "metadata": {},
     "output_type": "execute_result"
    }
   ],
   "source": [
    "daymovement=daybird.groupby('bird_name')['distance'].sum()\n",
    "daymovement.to_frame()\n",
    "# Nico travels the most distance during the day"
   ]
  },
  {
   "cell_type": "code",
   "execution_count": 14,
   "metadata": {
    "scrolled": true
   },
   "outputs": [
    {
     "data": {
      "text/html": [
       "<div>\n",
       "<style scoped>\n",
       "    .dataframe tbody tr th:only-of-type {\n",
       "        vertical-align: middle;\n",
       "    }\n",
       "\n",
       "    .dataframe tbody tr th {\n",
       "        vertical-align: top;\n",
       "    }\n",
       "\n",
       "    .dataframe thead th {\n",
       "        text-align: right;\n",
       "    }\n",
       "</style>\n",
       "<table border=\"1\" class=\"dataframe\">\n",
       "  <thead>\n",
       "    <tr style=\"text-align: right;\">\n",
       "      <th></th>\n",
       "      <th>distance</th>\n",
       "    </tr>\n",
       "    <tr>\n",
       "      <th>bird_name</th>\n",
       "      <th></th>\n",
       "    </tr>\n",
       "  </thead>\n",
       "  <tbody>\n",
       "    <tr>\n",
       "      <th>Eric</th>\n",
       "      <td>3522.38</td>\n",
       "    </tr>\n",
       "    <tr>\n",
       "      <th>Nico</th>\n",
       "      <td>7006.93</td>\n",
       "    </tr>\n",
       "    <tr>\n",
       "      <th>Sanne</th>\n",
       "      <td>7173.34</td>\n",
       "    </tr>\n",
       "  </tbody>\n",
       "</table>\n",
       "</div>"
      ],
      "text/plain": [
       "           distance\n",
       "bird_name          \n",
       "Eric        3522.38\n",
       "Nico        7006.93\n",
       "Sanne       7173.34"
      ]
     },
     "execution_count": 14,
     "metadata": {},
     "output_type": "execute_result"
    }
   ],
   "source": [
    "nightmovement=nightbird.groupby('bird_name')['distance'].sum()\n",
    "nightmovement.to_frame()\n",
    "# Sanne travels the most distance during the night"
   ]
  },
  {
   "cell_type": "code",
   "execution_count": 15,
   "metadata": {
    "scrolled": true
   },
   "outputs": [
    {
     "data": {
      "text/html": [
       "<div>\n",
       "<style scoped>\n",
       "    .dataframe tbody tr th:only-of-type {\n",
       "        vertical-align: middle;\n",
       "    }\n",
       "\n",
       "    .dataframe tbody tr th {\n",
       "        vertical-align: top;\n",
       "    }\n",
       "\n",
       "    .dataframe thead th {\n",
       "        text-align: right;\n",
       "    }\n",
       "</style>\n",
       "<table border=\"1\" class=\"dataframe\">\n",
       "  <thead>\n",
       "    <tr style=\"text-align: right;\">\n",
       "      <th></th>\n",
       "      <th>distance</th>\n",
       "    </tr>\n",
       "    <tr>\n",
       "      <th>bird_name</th>\n",
       "      <th></th>\n",
       "    </tr>\n",
       "  </thead>\n",
       "  <tbody>\n",
       "    <tr>\n",
       "      <th>Eric</th>\n",
       "      <td>10424.19</td>\n",
       "    </tr>\n",
       "    <tr>\n",
       "      <th>Nico</th>\n",
       "      <td>16769.20</td>\n",
       "    </tr>\n",
       "    <tr>\n",
       "      <th>Sanne</th>\n",
       "      <td>15701.77</td>\n",
       "    </tr>\n",
       "  </tbody>\n",
       "</table>\n",
       "</div>"
      ],
      "text/plain": [
       "           distance\n",
       "bird_name          \n",
       "Eric       10424.19\n",
       "Nico       16769.20\n",
       "Sanne      15701.77"
      ]
     },
     "execution_count": 15,
     "metadata": {},
     "output_type": "execute_result"
    }
   ],
   "source": [
    "birddistance=birds.groupby('bird_name')['distance'].sum()\n",
    "birddistance.to_frame()\n",
    "# Nico travels the most distance overall"
   ]
  },
  {
   "cell_type": "code",
   "execution_count": 16,
   "metadata": {},
   "outputs": [
    {
     "name": "stdout",
     "output_type": "stream",
     "text": [
      "0.662095568097\n",
      "0.337904431903\n"
     ]
    }
   ],
   "source": [
    "# Eric:\n",
    "print(daymovement[0]/birddistance[0])\n",
    "print(nightmovement[0]/birddistance[0])"
   ]
  },
  {
   "cell_type": "code",
   "execution_count": 17,
   "metadata": {},
   "outputs": [
    {
     "name": "stdout",
     "output_type": "stream",
     "text": [
      "0.58215478377\n",
      "0.41784521623\n"
     ]
    }
   ],
   "source": [
    "# Nico:\n",
    "print(daymovement[1]/birddistance[1])\n",
    "print(nightmovement[1]/birddistance[1])"
   ]
  },
  {
   "cell_type": "code",
   "execution_count": 18,
   "metadata": {},
   "outputs": [
    {
     "name": "stdout",
     "output_type": "stream",
     "text": [
      "0.543150867705\n",
      "0.456849132295\n"
     ]
    }
   ],
   "source": [
    "# Sanne:\n",
    "print(daymovement[2]/birddistance[2])\n",
    "print(nightmovement[2]/birddistance[2])"
   ]
  },
  {
   "cell_type": "markdown",
   "metadata": {},
   "source": [
    "Eric moves 2/3 of his distance during the day, and 1/3rd during the night\n",
    "\n",
    "Nico moves a little less during the day, a little more during the night. Around 60% daytime\n",
    "\n",
    "Sanne moves 54% of distance during the day, and 45% during the night\n"
   ]
  },
  {
   "cell_type": "code",
   "execution_count": 19,
   "metadata": {},
   "outputs": [],
   "source": [
    "def timeTest(hour):\n",
    "    if ((hour>=18) | (hour<=5)):\n",
    "        return \"night\"\n",
    "    else:\n",
    "        return \"day\""
   ]
  },
  {
   "cell_type": "code",
   "execution_count": 20,
   "metadata": {},
   "outputs": [],
   "source": [
    "birds['time'] = birds['hour'].apply(lambda x: timeTest(x))"
   ]
  },
  {
   "cell_type": "code",
   "execution_count": 21,
   "metadata": {},
   "outputs": [],
   "source": [
    "bird_list = ['All', 'Eric', 'Nico', 'Sanne']"
   ]
  },
  {
   "cell_type": "code",
   "execution_count": 22,
   "metadata": {},
   "outputs": [
    {
     "data": {
      "application/vnd.jupyter.widget-view+json": {
       "model_id": "07f94d88b1284255b10bca9e3e3576b5",
       "version_major": 2,
       "version_minor": 0
      },
      "text/html": [
       "<p>Failed to display Jupyter Widget of type <code>interactive</code>.</p>\n",
       "<p>\n",
       "  If you're reading this message in the Jupyter Notebook or JupyterLab Notebook, it may mean\n",
       "  that the widgets JavaScript is still loading. If this message persists, it\n",
       "  likely means that the widgets JavaScript library is either not installed or\n",
       "  not enabled. See the <a href=\"https://ipywidgets.readthedocs.io/en/stable/user_install.html\">Jupyter\n",
       "  Widgets Documentation</a> for setup instructions.\n",
       "</p>\n",
       "<p>\n",
       "  If you're reading this message in another frontend (for example, a static\n",
       "  rendering on GitHub or <a href=\"https://nbviewer.jupyter.org/\">NBViewer</a>),\n",
       "  it may mean that your frontend doesn't currently support widgets.\n",
       "</p>\n"
      ],
      "text/plain": [
       "interactive(children=(Dropdown(description='bird', options=('All', 'Eric', 'Nico', 'Sanne'), value='All'), Output()), _dom_classes=('widget-interact',))"
      ]
     },
     "metadata": {},
     "output_type": "display_data"
    }
   ],
   "source": [
    "@interact(bird=bird_list)\n",
    "def scatter(bird):\n",
    "    if bird=='All':\n",
    "        fig = px.scatter_mapbox(birds,lat=\"latitude\", lon=\"longitude\",\n",
    "                        color = \"time\", zoom=2.2)\n",
    "    else:\n",
    "        fig = px.scatter_mapbox(birds[birds['bird_name']==bird],lat=\"latitude\", lon=\"longitude\",\n",
    "                        color = \"time\", zoom=2.2)\n",
    "    fig.show()"
   ]
  },
  {
   "cell_type": "markdown",
   "metadata": {},
   "source": [
    "The birds all follow a relatively similar pattern: At the start of their migration they travel night and day nonstop and once they reach their destinations, it appears that they start to move more during the day."
   ]
  },
  {
   "cell_type": "code",
   "execution_count": 23,
   "metadata": {},
   "outputs": [
    {
     "data": {
      "text/html": [
       "<div>\n",
       "<style scoped>\n",
       "    .dataframe tbody tr th:only-of-type {\n",
       "        vertical-align: middle;\n",
       "    }\n",
       "\n",
       "    .dataframe tbody tr th {\n",
       "        vertical-align: top;\n",
       "    }\n",
       "\n",
       "    .dataframe thead th {\n",
       "        text-align: right;\n",
       "    }\n",
       "</style>\n",
       "<table border=\"1\" class=\"dataframe\">\n",
       "  <thead>\n",
       "    <tr style=\"text-align: right;\">\n",
       "      <th></th>\n",
       "      <th></th>\n",
       "      <th>distance</th>\n",
       "    </tr>\n",
       "    <tr>\n",
       "      <th>bird_name</th>\n",
       "      <th>month</th>\n",
       "      <th></th>\n",
       "    </tr>\n",
       "  </thead>\n",
       "  <tbody>\n",
       "    <tr>\n",
       "      <th rowspan=\"9\" valign=\"top\">Eric</th>\n",
       "      <th>1</th>\n",
       "      <td>734.79</td>\n",
       "    </tr>\n",
       "    <tr>\n",
       "      <th>2</th>\n",
       "      <td>338.78</td>\n",
       "    </tr>\n",
       "    <tr>\n",
       "      <th>3</th>\n",
       "      <td>988.73</td>\n",
       "    </tr>\n",
       "    <tr>\n",
       "      <th>4</th>\n",
       "      <td>2858.74</td>\n",
       "    </tr>\n",
       "    <tr>\n",
       "      <th>8</th>\n",
       "      <td>582.32</td>\n",
       "    </tr>\n",
       "    <tr>\n",
       "      <th>9</th>\n",
       "      <td>1104.36</td>\n",
       "    </tr>\n",
       "    <tr>\n",
       "      <th>10</th>\n",
       "      <td>919.07</td>\n",
       "    </tr>\n",
       "    <tr>\n",
       "      <th>11</th>\n",
       "      <td>2521.08</td>\n",
       "    </tr>\n",
       "    <tr>\n",
       "      <th>12</th>\n",
       "      <td>376.32</td>\n",
       "    </tr>\n",
       "    <tr>\n",
       "      <th rowspan=\"9\" valign=\"top\">Nico</th>\n",
       "      <th>1</th>\n",
       "      <td>1590.98</td>\n",
       "    </tr>\n",
       "    <tr>\n",
       "      <th>2</th>\n",
       "      <td>1398.48</td>\n",
       "    </tr>\n",
       "    <tr>\n",
       "      <th>3</th>\n",
       "      <td>1437.28</td>\n",
       "    </tr>\n",
       "    <tr>\n",
       "      <th>4</th>\n",
       "      <td>4244.62</td>\n",
       "    </tr>\n",
       "    <tr>\n",
       "      <th>8</th>\n",
       "      <td>801.56</td>\n",
       "    </tr>\n",
       "    <tr>\n",
       "      <th>9</th>\n",
       "      <td>1088.88</td>\n",
       "    </tr>\n",
       "    <tr>\n",
       "      <th>10</th>\n",
       "      <td>962.07</td>\n",
       "    </tr>\n",
       "    <tr>\n",
       "      <th>11</th>\n",
       "      <td>3496.04</td>\n",
       "    </tr>\n",
       "    <tr>\n",
       "      <th>12</th>\n",
       "      <td>1749.29</td>\n",
       "    </tr>\n",
       "    <tr>\n",
       "      <th rowspan=\"9\" valign=\"top\">Sanne</th>\n",
       "      <th>1</th>\n",
       "      <td>1615.89</td>\n",
       "    </tr>\n",
       "    <tr>\n",
       "      <th>2</th>\n",
       "      <td>1166.68</td>\n",
       "    </tr>\n",
       "    <tr>\n",
       "      <th>3</th>\n",
       "      <td>1112.48</td>\n",
       "    </tr>\n",
       "    <tr>\n",
       "      <th>4</th>\n",
       "      <td>3942.61</td>\n",
       "    </tr>\n",
       "    <tr>\n",
       "      <th>8</th>\n",
       "      <td>1568.96</td>\n",
       "    </tr>\n",
       "    <tr>\n",
       "      <th>9</th>\n",
       "      <td>3184.70</td>\n",
       "    </tr>\n",
       "    <tr>\n",
       "      <th>10</th>\n",
       "      <td>1052.80</td>\n",
       "    </tr>\n",
       "    <tr>\n",
       "      <th>11</th>\n",
       "      <td>988.41</td>\n",
       "    </tr>\n",
       "    <tr>\n",
       "      <th>12</th>\n",
       "      <td>1069.24</td>\n",
       "    </tr>\n",
       "  </tbody>\n",
       "</table>\n",
       "</div>"
      ],
      "text/plain": [
       "                 distance\n",
       "bird_name month          \n",
       "Eric      1        734.79\n",
       "          2        338.78\n",
       "          3        988.73\n",
       "          4       2858.74\n",
       "          8        582.32\n",
       "          9       1104.36\n",
       "          10       919.07\n",
       "          11      2521.08\n",
       "          12       376.32\n",
       "Nico      1       1590.98\n",
       "          2       1398.48\n",
       "          3       1437.28\n",
       "          4       4244.62\n",
       "          8        801.56\n",
       "          9       1088.88\n",
       "          10       962.07\n",
       "          11      3496.04\n",
       "          12      1749.29\n",
       "Sanne     1       1615.89\n",
       "          2       1166.68\n",
       "          3       1112.48\n",
       "          4       3942.61\n",
       "          8       1568.96\n",
       "          9       3184.70\n",
       "          10      1052.80\n",
       "          11       988.41\n",
       "          12      1069.24"
      ]
     },
     "execution_count": 23,
     "metadata": {},
     "output_type": "execute_result"
    }
   ],
   "source": [
    "# Total distance calculated for each month\n",
    "\n",
    "birds.groupby(['bird_name', 'month'])['distance'].sum().to_frame()"
   ]
  },
  {
   "cell_type": "code",
   "execution_count": 24,
   "metadata": {
    "scrolled": true
   },
   "outputs": [
    {
     "data": {
      "text/html": [
       "<div>\n",
       "<style scoped>\n",
       "    .dataframe tbody tr th:only-of-type {\n",
       "        vertical-align: middle;\n",
       "    }\n",
       "\n",
       "    .dataframe tbody tr th {\n",
       "        vertical-align: top;\n",
       "    }\n",
       "\n",
       "    .dataframe thead th {\n",
       "        text-align: right;\n",
       "    }\n",
       "</style>\n",
       "<table border=\"1\" class=\"dataframe\">\n",
       "  <thead>\n",
       "    <tr style=\"text-align: right;\">\n",
       "      <th></th>\n",
       "      <th></th>\n",
       "      <th>miles_travelled</th>\n",
       "    </tr>\n",
       "    <tr>\n",
       "      <th>bird_name</th>\n",
       "      <th>month</th>\n",
       "      <th></th>\n",
       "    </tr>\n",
       "  </thead>\n",
       "  <tbody>\n",
       "    <tr>\n",
       "      <th rowspan=\"9\" valign=\"top\">Eric</th>\n",
       "      <th>1</th>\n",
       "      <td>0.03</td>\n",
       "    </tr>\n",
       "    <tr>\n",
       "      <th>2</th>\n",
       "      <td>0.02</td>\n",
       "    </tr>\n",
       "    <tr>\n",
       "      <th>3</th>\n",
       "      <td>493.15</td>\n",
       "    </tr>\n",
       "    <tr>\n",
       "      <th>4</th>\n",
       "      <td>1095.08</td>\n",
       "    </tr>\n",
       "    <tr>\n",
       "      <th>8</th>\n",
       "      <td>76.86</td>\n",
       "    </tr>\n",
       "    <tr>\n",
       "      <th>9</th>\n",
       "      <td>17.49</td>\n",
       "    </tr>\n",
       "    <tr>\n",
       "      <th>10</th>\n",
       "      <td>0.53</td>\n",
       "    </tr>\n",
       "    <tr>\n",
       "      <th>11</th>\n",
       "      <td>1508.48</td>\n",
       "    </tr>\n",
       "    <tr>\n",
       "      <th>12</th>\n",
       "      <td>0.09</td>\n",
       "    </tr>\n",
       "    <tr>\n",
       "      <th rowspan=\"9\" valign=\"top\">Nico</th>\n",
       "      <th>1</th>\n",
       "      <td>201.76</td>\n",
       "    </tr>\n",
       "    <tr>\n",
       "      <th>2</th>\n",
       "      <td>110.84</td>\n",
       "    </tr>\n",
       "    <tr>\n",
       "      <th>3</th>\n",
       "      <td>130.23</td>\n",
       "    </tr>\n",
       "    <tr>\n",
       "      <th>4</th>\n",
       "      <td>2895.58</td>\n",
       "    </tr>\n",
       "    <tr>\n",
       "      <th>8</th>\n",
       "      <td>36.32</td>\n",
       "    </tr>\n",
       "    <tr>\n",
       "      <th>9</th>\n",
       "      <td>36.30</td>\n",
       "    </tr>\n",
       "    <tr>\n",
       "      <th>10</th>\n",
       "      <td>57.10</td>\n",
       "    </tr>\n",
       "    <tr>\n",
       "      <th>11</th>\n",
       "      <td>2054.38</td>\n",
       "    </tr>\n",
       "    <tr>\n",
       "      <th>12</th>\n",
       "      <td>377.01</td>\n",
       "    </tr>\n",
       "    <tr>\n",
       "      <th rowspan=\"9\" valign=\"top\">Sanne</th>\n",
       "      <th>1</th>\n",
       "      <td>23.89</td>\n",
       "    </tr>\n",
       "    <tr>\n",
       "      <th>2</th>\n",
       "      <td>123.79</td>\n",
       "    </tr>\n",
       "    <tr>\n",
       "      <th>3</th>\n",
       "      <td>49.80</td>\n",
       "    </tr>\n",
       "    <tr>\n",
       "      <th>4</th>\n",
       "      <td>2627.02</td>\n",
       "    </tr>\n",
       "    <tr>\n",
       "      <th>8</th>\n",
       "      <td>769.43</td>\n",
       "    </tr>\n",
       "    <tr>\n",
       "      <th>9</th>\n",
       "      <td>1978.44</td>\n",
       "    </tr>\n",
       "    <tr>\n",
       "      <th>10</th>\n",
       "      <td>0.52</td>\n",
       "    </tr>\n",
       "    <tr>\n",
       "      <th>11</th>\n",
       "      <td>0.81</td>\n",
       "    </tr>\n",
       "    <tr>\n",
       "      <th>12</th>\n",
       "      <td>0.24</td>\n",
       "    </tr>\n",
       "  </tbody>\n",
       "</table>\n",
       "</div>"
      ],
      "text/plain": [
       "                 miles_travelled\n",
       "bird_name month                 \n",
       "Eric      1                 0.03\n",
       "          2                 0.02\n",
       "          3               493.15\n",
       "          4              1095.08\n",
       "          8                76.86\n",
       "          9                17.49\n",
       "          10                0.53\n",
       "          11             1508.48\n",
       "          12                0.09\n",
       "Nico      1               201.76\n",
       "          2               110.84\n",
       "          3               130.23\n",
       "          4              2895.58\n",
       "          8                36.32\n",
       "          9                36.30\n",
       "          10               57.10\n",
       "          11             2054.38\n",
       "          12              377.01\n",
       "Sanne     1                23.89\n",
       "          2               123.79\n",
       "          3                49.80\n",
       "          4              2627.02\n",
       "          8               769.43\n",
       "          9              1978.44\n",
       "          10                0.52\n",
       "          11                0.81\n",
       "          12                0.24"
      ]
     },
     "execution_count": 24,
     "metadata": {},
     "output_type": "execute_result"
    }
   ],
   "source": [
    "# Estimated distance calculated for each month\n",
    "dist_month = pd.DataFrame([], columns=['bird_name', 'month', 'miles_travelled'])\n",
    "\n",
    "for bird in birds.bird_name.unique():\n",
    "    bird_df = birds.loc[lambda d: d['bird_name'] == bird]\n",
    "    for month in bird_df['month'].unique():\n",
    "        bird_month = bird_df.loc[lambda d: d['month'] == month].reset_index()\n",
    "        first = ((bird_month['latitude'][0]),(bird_month['longitude'][0]))\n",
    "        last = ((bird_month['latitude'][(bird_month.shape[0] - 1)]),\n",
    "                (bird_month['longitude'][(bird_month.shape[0] - 1)]))\n",
    "        dist_travelled = round(haversine(first, last, unit=Unit.MILES), 2)\n",
    "        dist_month = dist_month.append({'bird_name': bird, 'month': month,\n",
    "                                        'miles_travelled': dist_travelled}, ignore_index = True)\n",
    "\n",
    "dist_month = dist_month.groupby(['bird_name', 'month'])['miles_travelled'].sum().to_frame()\n",
    "dist_month"
   ]
  },
  {
   "cell_type": "markdown",
   "metadata": {},
   "source": [
    "I have decided to look at estimated distance purposefully here. It better shows whether a bird is staying in the same general area vs traveling long distances. \n",
    "\n",
    "\n",
    "What we can see is that Sanne and Eric have multiple months where they have 0 miles traveled. This could indicate that they are birds that nest, whereas Nico moves to a new location every month, indicating that he might not nest."
   ]
  },
  {
   "cell_type": "markdown",
   "metadata": {},
   "source": [
    "# Timeline of Migration and Location"
   ]
  },
  {
   "cell_type": "code",
   "execution_count": 25,
   "metadata": {},
   "outputs": [
    {
     "data": {
      "application/vnd.jupyter.widget-view+json": {
       "model_id": "05345033b0a64958ba6c1fcf1a6c9b6f",
       "version_major": 2,
       "version_minor": 0
      },
      "text/html": [
       "<p>Failed to display Jupyter Widget of type <code>interactive</code>.</p>\n",
       "<p>\n",
       "  If you're reading this message in the Jupyter Notebook or JupyterLab Notebook, it may mean\n",
       "  that the widgets JavaScript is still loading. If this message persists, it\n",
       "  likely means that the widgets JavaScript library is either not installed or\n",
       "  not enabled. See the <a href=\"https://ipywidgets.readthedocs.io/en/stable/user_install.html\">Jupyter\n",
       "  Widgets Documentation</a> for setup instructions.\n",
       "</p>\n",
       "<p>\n",
       "  If you're reading this message in another frontend (for example, a static\n",
       "  rendering on GitHub or <a href=\"https://nbviewer.jupyter.org/\">NBViewer</a>),\n",
       "  it may mean that your frontend doesn't currently support widgets.\n",
       "</p>\n"
      ],
      "text/plain": [
       "interactive(children=(Dropdown(description='bird', options=('All', 'Eric', 'Nico', 'Sanne'), value='All'), Output()), _dom_classes=('widget-interact',))"
      ]
     },
     "metadata": {},
     "output_type": "display_data"
    }
   ],
   "source": [
    "@interact(bird = bird_list) \n",
    "def mapbox_by_bird(bird):\n",
    "    \n",
    "    if bird == 'All':\n",
    "        bird_df = birds\n",
    "        label = \"bird_name\"\n",
    "    else:\n",
    "        bird_df = birds.loc[lambda d: d['bird_name'] == bird]\n",
    "        label = \"day_str\"\n",
    "    \n",
    "    bird_months = px.scatter_mapbox(bird_df, lat=\"latitude\", lon=\"longitude\", color = \"month_str\", text = label,\n",
    "                                   color_discrete_sequence=px.colors.qualitative.Prism, zoom=2.2)\n",
    "    bird_months.show()\n",
    "    "
   ]
  },
  {
   "cell_type": "markdown",
   "metadata": {},
   "source": [
    "### Eric \n",
    "Eric leaves from the central area of the Hauts-de-France region of France on November 10th. He stops at the very end of November and stays on the coast of Morocco (around Agadir) from December to March, leaving on the 29th. He finishes his trip back in April, settling in northern Belgium around the coast.\n",
    "\n"
   ]
  },
  {
   "cell_type": "markdown",
   "metadata": {},
   "source": [
    "### Nico \n",
    "Nico starts off a little more east than the other birds, by the border of France and Belgium. At the end of October, he moves more toward the central area of the Hauts-de-France region of France, stays there for a bit, and then starts going south on the 16th of November. He keeps travelling pretty much up until March, where he stays on the coast of the Zinguinchor region of Senegal. He then leaves the area around April 8th and goes all the way back north, staying right off the coast of Belgium."
   ]
  },
  {
   "cell_type": "markdown",
   "metadata": {},
   "source": [
    "### Sanne\n",
    "Sanne starts off much differently than the other two! He starts like Eric in the central area of the Hauts-de-France region of France, but he starts flying south in August, unlike the other birds who started in November. He continues flying in September, and at the beginning of October, he settles around the coast of the Fatick and Thies region of Senegal and stays there until the beginning of February. He starts heading north on the 6th of February, but most of his distance is covered in April like the other two birds. He then settles just like Eric in northern Belgium by the coast."
   ]
  },
  {
   "cell_type": "markdown",
   "metadata": {},
   "source": [
    "# Looking at Speed and Altitude"
   ]
  },
  {
   "cell_type": "code",
   "execution_count": 26,
   "metadata": {},
   "outputs": [],
   "source": [
    "#subsets for looking at one direction of migration at a time (generally)\n",
    "fwbirds = birds[(birds['month'] >= 8) & (birds['month'] <= 12)]\n",
    "wsbirds = birds[(birds['month'] >= 1) & (birds['month'] <= 5)]"
   ]
  },
  {
   "cell_type": "code",
   "execution_count": 27,
   "metadata": {},
   "outputs": [
    {
     "data": {
      "application/vnd.jupyter.widget-view+json": {
       "model_id": "5194944100cc4933a83e1a03d6c6027c",
       "version_major": 2,
       "version_minor": 0
      },
      "text/html": [
       "<p>Failed to display Jupyter Widget of type <code>interactive</code>.</p>\n",
       "<p>\n",
       "  If you're reading this message in the Jupyter Notebook or JupyterLab Notebook, it may mean\n",
       "  that the widgets JavaScript is still loading. If this message persists, it\n",
       "  likely means that the widgets JavaScript library is either not installed or\n",
       "  not enabled. See the <a href=\"https://ipywidgets.readthedocs.io/en/stable/user_install.html\">Jupyter\n",
       "  Widgets Documentation</a> for setup instructions.\n",
       "</p>\n",
       "<p>\n",
       "  If you're reading this message in another frontend (for example, a static\n",
       "  rendering on GitHub or <a href=\"https://nbviewer.jupyter.org/\">NBViewer</a>),\n",
       "  it may mean that your frontend doesn't currently support widgets.\n",
       "</p>\n"
      ],
      "text/plain": [
       "interactive(children=(Dropdown(description='mig', options=('down', 'up'), value='down'), Dropdown(description='var', options=('fix_alt', 'fix_speed'), value='fix_alt'), Output()), _dom_classes=('widget-interact',))"
      ]
     },
     "metadata": {},
     "output_type": "display_data"
    }
   ],
   "source": [
    "@interact(mig = ['down', 'up'], var = ['fix_alt', 'fix_speed']) \n",
    "def mapbox_by_mig_var(mig, var):\n",
    "    if(mig == 'down'):\n",
    "        df = fwbirds\n",
    "    else:\n",
    "        df = wsbirds\n",
    "    fig = px.scatter_mapbox(df, lat=\"latitude\", lon=\"longitude\", color = var,\n",
    "                        text = 'bird_name',\n",
    "                        color_continuous_scale=px.colors.diverging.Fall, size_max= 5, zoom=2.2)\n",
    "    fig.show()"
   ]
  },
  {
   "cell_type": "markdown",
   "metadata": {},
   "source": [
    "### Eric\n",
    "Eric tends to stay relatively high on the first 3/4 of his journey down (besides parts of Portugal) but flys lower as he approaches his vacation spot. On his way back up, he tends to stick to the lower altitudes over water and higher altitudes over land, again, flying lower as he returns home. As for speed, there are no real distinct differences over his journey other than the speed drops when he approaches his vacation spot and home"
   ]
  },
  {
   "cell_type": "markdown",
   "metadata": {},
   "source": [
    "### Nico \n",
    "Nico's trip down had him flying high most of the time, except for the times where he was on the coast. On his way back home, Nico follows the same trend as Eric, flying very high over the Spanish peninusla and dipping a little lower over water and the coast. Nico's speed is consistently inconsistent on both his way down and back up."
   ]
  },
  {
   "cell_type": "markdown",
   "metadata": {},
   "source": [
    "### Sanne \n",
    "Sanne seems to, on average, follow the trends as before. However overall he seemed to just fly a little lower on the coast and over the water and continued to fly higher over the land. Sanne follows the trend sent before on his way back up, however, he was recorded as flying lower over the water compared to the others. Sanne follows the previous speed trends."
   ]
  },
  {
   "cell_type": "markdown",
   "metadata": {},
   "source": [
    "## Boxplots\n",
    "These were just another take on how I separated the migration into two halves and how the speed and altitude differed depending on the months."
   ]
  },
  {
   "cell_type": "code",
   "execution_count": 28,
   "metadata": {},
   "outputs": [
    {
     "data": {
      "application/vnd.jupyter.widget-view+json": {
       "model_id": "77c90170025e4dbe9f1e23c324018300",
       "version_major": 2,
       "version_minor": 0
      },
      "text/html": [
       "<p>Failed to display Jupyter Widget of type <code>interactive</code>.</p>\n",
       "<p>\n",
       "  If you're reading this message in the Jupyter Notebook or JupyterLab Notebook, it may mean\n",
       "  that the widgets JavaScript is still loading. If this message persists, it\n",
       "  likely means that the widgets JavaScript library is either not installed or\n",
       "  not enabled. See the <a href=\"https://ipywidgets.readthedocs.io/en/stable/user_install.html\">Jupyter\n",
       "  Widgets Documentation</a> for setup instructions.\n",
       "</p>\n",
       "<p>\n",
       "  If you're reading this message in another frontend (for example, a static\n",
       "  rendering on GitHub or <a href=\"https://nbviewer.jupyter.org/\">NBViewer</a>),\n",
       "  it may mean that your frontend doesn't currently support widgets.\n",
       "</p>\n"
      ],
      "text/plain": [
       "interactive(children=(Dropdown(description='var', options=('fix_alt', 'speed_2d'), value='fix_alt'), Output()), _dom_classes=('widget-interact',))"
      ]
     },
     "metadata": {},
     "output_type": "display_data"
    }
   ],
   "source": [
    "@interact(var = ['fix_alt', 'speed_2d']) \n",
    "def box_by_var(var):\n",
    "    fig = px.box(birds, x = \"month\" , y = var , color = \"bird_name\")\n",
    "    fig.show()"
   ]
  }
 ],
 "metadata": {
  "kernelspec": {
   "display_name": "Python 3",
   "language": "python",
   "name": "python3"
  },
  "language_info": {
   "codemirror_mode": {
    "name": "ipython",
    "version": 3
   },
   "file_extension": ".py",
   "mimetype": "text/x-python",
   "name": "python",
   "nbconvert_exporter": "python",
   "pygments_lexer": "ipython3",
   "version": "3.4.3"
  }
 },
 "nbformat": 4,
 "nbformat_minor": 2
}
